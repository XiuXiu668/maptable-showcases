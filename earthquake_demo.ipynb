{
 "cells": [
  {
   "cell_type": "code",
   "execution_count": 65,
   "metadata": {},
   "outputs": [],
   "source": [
    "import requests\n",
    "import time                                                                                                                                                                        \n",
    "import json\n",
    "import csv\n",
    "from io import StringIO                                                                                                                                                               \n"
   ]
  },
  {
   "cell_type": "code",
   "execution_count": 66,
   "metadata": {},
   "outputs": [],
   "source": [
    "API_HOST = 'https://maptable.com'"
   ]
  },
  {
   "cell_type": "code",
   "execution_count": 67,
   "metadata": {},
   "outputs": [],
   "source": [
    "app_id = 'e2t11p3m0ow0'  # replace use your own app_id\n",
    "app_secret = 'e2t11p3m0ow0'  # replace use your own app_secret\n",
    "url = '%s/open/api/v1/auth/' % API_HOST\n",
    "data = {\n",
    "    'appId': app_id,\n",
    "    'appSecret': app_secret\n",
    "}\n",
    "req = requests.post(url, json=data)\n",
    "resp = req.json()\n",
    "access_token = resp['detail']['token']"
   ]
  },
  {
   "cell_type": "code",
   "execution_count": 69,
   "metadata": {},
   "outputs": [],
   "source": [
    "# create project, make sure you have enough quota\n",
    "url = '%s/open/api/v1/projects/' % API_HOST\n",
    "headers = {'Authorization': access_token}\n",
    "data = {\n",
    "    'name': 'earthquake',\n",
    "    'desc': 'https://earthquake.usgs.gov/earthquakes/feed/',\n",
    "    'icon': 'todo',\n",
    "}\n",
    "req = requests.post(url, headers=headers, json=data)\n",
    "resp = req.json()\n",
    "\n",
    "project_id = resp['detail']['id']\n"
   ]
  },
  {
   "cell_type": "code",
   "execution_count": 70,
   "metadata": {},
   "outputs": [
    {
     "data": {
      "text/plain": [
       "1036"
      ]
     },
     "execution_count": 70,
     "metadata": {},
     "output_type": "execute_result"
    }
   ],
   "source": [
    "project_id"
   ]
  },
  {
   "cell_type": "code",
   "execution_count": 72,
   "metadata": {},
   "outputs": [],
   "source": [
    "# load data from https://earthquake.usgs.gov/earthquakes/feed/'\n",
    "resp = requests.get('https://earthquake.usgs.gov/earthquakes/feed/v1.0/summary/all_month.csv')\n",
    "csv_content = resp.content\n"
   ]
  },
  {
   "cell_type": "code",
   "execution_count": 73,
   "metadata": {},
   "outputs": [
    {
     "data": {
      "text/plain": [
       "b'time,latitude,longitude,depth,mag,magType,nst,gap,dmin,rms,net,id,updated,place,type,horizontalError'"
      ]
     },
     "execution_count": 73,
     "metadata": {},
     "output_type": "execute_result"
    }
   ],
   "source": [
    "# check the data\n",
    "csv_content[:100]"
   ]
  },
  {
   "cell_type": "code",
   "execution_count": 74,
   "metadata": {},
   "outputs": [],
   "source": [
    "csv_io = StringIO(csv_content.decode('utf8'))\n",
    "r = csv.reader(csv_io)\n",
    "\n",
    "data_io_create = StringIO()\n",
    "w_create = csv.writer(data_io_create)\n",
    "data_io_append = StringIO()\n",
    "w_append = csv.writer(data_io_append)"
   ]
  },
  {
   "cell_type": "code",
   "execution_count": 75,
   "metadata": {},
   "outputs": [
    {
     "data": {
      "text/plain": [
       "0"
      ]
     },
     "execution_count": 75,
     "metadata": {},
     "output_type": "execute_result"
    }
   ],
   "source": [
    "# parse original data\n",
    "cnt = -1\n",
    "for row in r:\n",
    "    cnt += 1\n",
    "    if cnt == 0:\n",
    "        rst_row = ['time', 'coor']\n",
    "        rst_row.extend(row[3:])\n",
    "    else:\n",
    "        rst_row = [row[0], 'POINT(%s %s)' % (row[2], row[1])]\n",
    "        rst_row.extend(row[3:])\n",
    "    if cnt < 100:\n",
    "        w_create.writerow(rst_row)\n",
    "    else:\n",
    "        w_append.writerow(rst_row)\n",
    "\n",
    "data_io_append.seek(0)\n",
    "data_io_create.seek(0)\n"
   ]
  },
  {
   "cell_type": "code",
   "execution_count": 13,
   "metadata": {},
   "outputs": [],
   "source": [
    "# data format and sample\n",
    "# time,latitude,longitude,depth,mag,magType,nst,gap,dmin,rms,net,id,updated,place,type,horizontalError,depthError,magError,magNst,status,locationSource,magSource\n",
    "# 2022-09-09T22:15:56.310Z,19.3880004882812,-155.490829467773,7,1.82000005,md,41,55,,0.150000006,hv,hv73135802,2022-09-09T22:21:26.530Z,\"20 km N of P\\xc4\\x81hala, Hawaii\",earthquake,0.35,0.550000012,1.47000003,27,automatic,hv,hv"
   ]
  },
  {
   "cell_type": "code",
   "execution_count": 76,
   "metadata": {},
   "outputs": [],
   "source": [
    "# prepare table columns\n",
    "# setup the table format\n",
    "# https://earthquake.usgs.gov/data/comcat/index.php#net\n",
    "table_columns = [\n",
    "    {'name': 'time', 'type': 'multiLineText', 'isPrimary': False},\n",
    "    {'name': 'coor', 'type': 'coordinate'},\n",
    "    {'name': 'depth', 'type': \"number\", \"typeOptions\": {\"format\": \"number\", \"precision\": 0 }},\n",
    "    {'name': 'mag', 'type': \"number\", \"typeOptions\": {\"format\": \"number\", \"precision\": 1 }},\n",
    "    {'name': 'magType', 'type': 'multiLineText', 'isPrimary': False},\n",
    "    {'name': 'nst', 'type': \"number\", \"typeOptions\": {\"format\": \"number\", \"precision\": 0 }},\n",
    "    {'name': 'gap', 'type': \"number\", \"typeOptions\": {\"format\": \"number\", \"precision\": 1 }},\n",
    "    {'name': 'dmin', 'type': \"number\", \"typeOptions\": {\"format\": \"number\", \"precision\": 1 }},\n",
    "    {'name': 'rms', 'type': \"number\", \"typeOptions\": {\"format\": \"number\", \"precision\": 2 }},\n",
    "    {'name': 'net', 'type': 'multiLineText', 'isPrimary': False},\n",
    "    {'name': 'id', 'type': 'multiLineText', 'isPrimary': False},\n",
    "    {'name': 'updated', 'type': 'multiLineText', 'isPrimary': False},\n",
    "    {'name': 'place', 'type': 'multiLineText', 'isPrimary': False},\n",
    "    {'name': 'type', 'type': 'multiLineText', 'isPrimary': False},\n",
    "    {'name': 'horizontalError', 'type': \"number\", \"typeOptions\": {\"format\": \"number\", \"precision\": 0 }},\n",
    "    {'name': 'depthError', 'type': \"number\", \"typeOptions\": {\"format\": \"number\", \"precision\": 0 }},\n",
    "    {'name': 'magError', 'type': \"number\", \"typeOptions\": {\"format\": \"number\", \"precision\": 0 }},\n",
    "    {'name': 'magNst', 'type': \"number\", \"typeOptions\": {\"format\": \"number\", \"precision\": 0 }},\n",
    "    {'name': 'status', 'type': 'multiLineText', 'isPrimary': False},\n",
    "    {'name': 'locationSource', 'type': 'multiLineText', 'isPrimary': False},\n",
    "    {'name': 'magSource', 'type': 'multiLineText', 'isPrimary': False},\n",
    "]\n"
   ]
  },
  {
   "cell_type": "code",
   "execution_count": 77,
   "metadata": {},
   "outputs": [],
   "source": [
    "# create table\n",
    "data = {\n",
    "    'projectID': project_id,\n",
    "    'name': 'earthquake-data-feed',\n",
    "    'skipFirstRow': True\n",
    "}\n",
    "url = '%s/open/api/v1/tablenodes/import/' % API_HOST\n",
    "files = {\n",
    "    'rows': data_io_create,\n",
    "    'columns': StringIO(json.dumps(table_columns))\n",
    "         }\n",
    "headers = {'Authorization': access_token}\n",
    "\n",
    "req = requests.post(url, data=data, headers=headers, files=files)\n",
    "resp = req.json()\n",
    "table_id = resp['detail']['id']"
   ]
  },
  {
   "cell_type": "code",
   "execution_count": 78,
   "metadata": {},
   "outputs": [
    {
     "data": {
      "text/plain": [
       "4131"
      ]
     },
     "execution_count": 78,
     "metadata": {},
     "output_type": "execute_result"
    }
   ],
   "source": [
    "table_id"
   ]
  },
  {
   "cell_type": "code",
   "execution_count": 79,
   "metadata": {},
   "outputs": [],
   "source": [
    "# read table, use the columns info in resp for appending data\n",
    "# read table\n",
    "url = '%s/open/api/v1/tablenodes/%d/partial/' % (API_HOST, table_id)\n",
    "data = {}\n",
    "headers = {'Authorization': access_token}\n",
    "req = requests.get(url, json=data, headers=headers)\n",
    "resp = req.json()\n",
    "columns = resp['detail']['columns']\n",
    "columns_io = StringIO(json.dumps(columns))\n"
   ]
  },
  {
   "cell_type": "code",
   "execution_count": 80,
   "metadata": {},
   "outputs": [],
   "source": [
    "# append rows\n",
    "# append data to\n",
    "url = '%s/open/api/v1/tablenodes/%d/rows/append/' % (API_HOST, table_id)\n",
    "files = {\n",
    "    'rows': data_io_append,\n",
    "    'columns': columns_io\n",
    "}\n",
    "headers = {'Authorization': access_token}\n",
    "req = requests.post(url, data=data, headers=headers, files=files)\n",
    "resp = req.json()\n"
   ]
  },
  {
   "cell_type": "code",
   "execution_count": null,
   "metadata": {},
   "outputs": [],
   "source": []
  }
 ],
 "metadata": {
  "kernelspec": {
   "display_name": "Python 3",
   "language": "python",
   "name": "python3"
  },
  "language_info": {
   "codemirror_mode": {
    "name": "ipython",
    "version": 3
   },
   "file_extension": ".py",
   "mimetype": "text/x-python",
   "name": "python",
   "nbconvert_exporter": "python",
   "pygments_lexer": "ipython3",
   "version": "3.7.3"
  }
 },
 "nbformat": 4,
 "nbformat_minor": 5
}
